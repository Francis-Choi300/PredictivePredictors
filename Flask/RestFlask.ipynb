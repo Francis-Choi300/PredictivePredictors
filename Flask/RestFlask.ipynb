{
 "cells": [
  {
   "cell_type": "code",
   "execution_count": 1,
   "id": "19c201b0",
   "metadata": {},
   "outputs": [],
   "source": [
    "import requests\n",
    "import pandas as pd\n",
    "import numpy as np\n",
    "import matplotlib.pyplot as plt\n",
    "import seaborn as sns"
   ]
  },
  {
   "cell_type": "code",
   "execution_count": 2,
   "id": "7afc914c",
   "metadata": {},
   "outputs": [],
   "source": [
    "from flask import Flask, request, jsonify"
   ]
  },
  {
   "cell_type": "markdown",
   "id": "f877b270",
   "metadata": {},
   "source": [
    "## Import Pickle"
   ]
  },
  {
   "cell_type": "code",
   "execution_count": 3,
   "id": "241d3455",
   "metadata": {},
   "outputs": [],
   "source": [
    "import pickle"
   ]
  },
  {
   "cell_type": "code",
   "execution_count": 4,
   "id": "9bfa2a2b",
   "metadata": {},
   "outputs": [],
   "source": [
    "file = open('rain_model.pkl', 'rb')\n",
    "rain_model = pickle.load(file)\n",
    "file.close()"
   ]
  },
  {
   "cell_type": "code",
   "execution_count": 5,
   "id": "b77bad16",
   "metadata": {},
   "outputs": [],
   "source": [
    "file = open('wind_model.pkl', 'rb')\n",
    "wind_model = pickle.load(file)\n",
    "file.close()"
   ]
  },
  {
   "cell_type": "code",
   "execution_count": 6,
   "id": "41063f3d",
   "metadata": {},
   "outputs": [],
   "source": [
    "file = open('temp_model.pkl', 'rb')\n",
    "temp_model = pickle.load(file)\n",
    "file.close()"
   ]
  },
  {
   "cell_type": "code",
   "execution_count": 7,
   "id": "d0339ae1",
   "metadata": {},
   "outputs": [],
   "source": [
    "file = open('avg_air_pressure.pkl', 'rb')\n",
    "air_pressure_avg = pickle.load(file)\n",
    "file.close()\n",
    "\n",
    "file = open('avg_humidity.pkl', 'rb')\n",
    "humidity_avg = pickle.load(file)\n",
    "file.close()\n",
    "\n",
    "file = open('monthly_avg_wind_speed.pkl', 'rb')\n",
    "wind_speed_avg = pickle.load(file)\n",
    "file.close()"
   ]
  },
  {
   "cell_type": "code",
   "execution_count": 8,
   "id": "d33493ef",
   "metadata": {},
   "outputs": [
    {
     "name": "stdout",
     "output_type": "stream",
     "text": [
      "Month\n",
      "1     4.731984\n",
      "2     4.613775\n",
      "3     4.225179\n",
      "4     4.088561\n",
      "5     3.308384\n",
      "6     3.098317\n",
      "7     2.891623\n",
      "8     2.954435\n",
      "9     3.263625\n",
      "10    3.944265\n",
      "11    4.333734\n",
      "12    4.671007\n",
      "Name: Surface Air Temp (K), dtype: float64\n"
     ]
    }
   ],
   "source": [
    "print(wind_speed_avg)"
   ]
  },
  {
   "cell_type": "code",
   "execution_count": 9,
   "id": "d959aa76",
   "metadata": {},
   "outputs": [],
   "source": [
    "#Define a function that takes two dates and produces an array of dates between them\n",
    "def split_dates(start, end):\n",
    "    dates = pd.date_range(start, end)\n",
    "    return dates"
   ]
  },
  {
   "cell_type": "markdown",
   "id": "58959041",
   "metadata": {},
   "source": [
    "## Get/Post"
   ]
  },
  {
   "cell_type": "code",
   "execution_count": 10,
   "id": "3f888332",
   "metadata": {},
   "outputs": [],
   "source": [
    "app = Flask(__name__)"
   ]
  },
  {
   "cell_type": "code",
   "execution_count": 11,
   "id": "6d4565d5",
   "metadata": {},
   "outputs": [],
   "source": [
    "def get_prediction(date, latitude, longitude):\n",
    "    \n",
    "        month = date.month\n",
    "        day = date.day\n",
    "        year = date.year\n",
    "        hour = date.hour\n",
    "        \n",
    "        rain_df = {\n",
    "        'Humidity':[humidity_avg[month]],\n",
    "        'Pressure (Pa)': [air_pressure_avg[month]],\n",
    "        'Year':[year],\n",
    "        'Month':[month],\n",
    "        'Day':[day],\n",
    "        'Hour':[hour],\n",
    "        'Longitude':[longitude],\n",
    "        'Latitude':[latitude]}\n",
    "    \n",
    "        wind_df = {        \n",
    "        'Surface Air Temp (K)':[0],\n",
    "        'Humidity (g/kg)': [0],\n",
    "        'Year':[year],\n",
    "        'Month':[month],\n",
    "        'Day':[day],\n",
    "        'Hour':[hour],\n",
    "        'Longitude':[longitude],\n",
    "        'Latitude':[latitude]}\n",
    "   \n",
    "        temp_df = {\n",
    "        'Surface Wind Speed (m/s)':[0],\n",
    "        'Humidity (g/kg)': [0],\n",
    "        'Year':[year],\n",
    "        'Month':[month],\n",
    "        'Day':[day],\n",
    "        'Hour':[hour],\n",
    "        'Longitude':[longitude],\n",
    "        'Latitude':[latitude] }\n",
    "\n",
    "        rain_df1 = pd.DataFrame(rain_df)\n",
    "        wind_df = pd.DataFrame(wind_df)\n",
    "        temp_df = pd.DataFrame(temp_df)\n",
    "\n",
    "        rain = rain_model.predict(rain_df1)[0]\n",
    "        wind = wind_model.predict(wind_df)[0]\n",
    "        temp = temp_model.predict(temp_df)[0]\n",
    "\n",
    "        prediction = {'Date': date, 'Rain': rain, 'Wind':wind, 'Temp':temp}\n",
    "        return prediction"
   ]
  },
  {
   "cell_type": "markdown",
   "id": "9d66ef48",
   "metadata": {},
   "source": [
    "## Method 1 Range of Date"
   ]
  },
  {
   "cell_type": "code",
   "execution_count": 12,
   "id": "053a3188",
   "metadata": {},
   "outputs": [],
   "source": [
    "@app.route(\"/request\", methods=[\"POST\"])\n",
    "def predict2():\n",
    "\n",
    "    data = request.get_json()\n",
    "\n",
    "    latitude = data['Latitude']\n",
    "    longitude = data['Longitude']\n",
    "    \n",
    "    start_date = data['Start_Date']\n",
    "    end_date = data['End_Date']\n",
    "    date_list = split_dates(start_date, end_date)\n",
    "\n",
    "    pred_list = []\n",
    "    for each in date_list:\n",
    "        prediction = get_prediction(each, latitude, longitude)\n",
    "        pred_list.append(prediction)\n",
    "    \n",
    "    print(pred_list)\n",
    "    return jsonify(pred_list)"
   ]
  },
  {
   "cell_type": "markdown",
   "id": "5e57b332",
   "metadata": {},
   "source": [
    "## Method 2, A Single Date"
   ]
  },
  {
   "cell_type": "code",
   "execution_count": null,
   "id": "dce5886c",
   "metadata": {},
   "outputs": [],
   "source": [
    "@app.route(\"/request_date\", methods=[\"POST\"])\n",
    "def predict_single():\n",
    "\n",
    "    data = request.get_json(force=True)\n",
    "\n",
    "    latitude = data['Latitude']\n",
    "    longitude = data['Longitude']\n",
    "    \n",
    "    date = data['Date']\n",
    "\n",
    "    prediction = get_prediction(date, latitude, longitude)\n",
    "\n",
    "    \n",
    "    print(prediction)\n",
    "    return jsonify(prediction)"
   ]
  },
  {
   "cell_type": "markdown",
   "id": "21fba7e8",
   "metadata": {},
   "source": [
    "## Method 3: A single Date, seperate"
   ]
  },
  {
   "cell_type": "code",
   "execution_count": 14,
   "id": "789aacbe",
   "metadata": {},
   "outputs": [],
   "source": [
    "@app.route(\"/request_date_sep\", methods=[\"POST\"])\n",
    "def predict_single2():\n",
    "\n",
    "    data = request.get_json(force=True)\n",
    "\n",
    "    latitude = data['Latitude']\n",
    "    longitude = data['Longitude']\n",
    "    \n",
    "    day = data['Day']\n",
    "    month = data['Month']\n",
    "    year = data['Year']\n",
    "    hour = data['Hour']\n",
    "\n",
    "    rain_df = {\n",
    "        'Humidity':[humidity_avg[month]],\n",
    "        'Pressure (Pa)': [air_pressure_avg[month]],\n",
    "        'Year':[year],\n",
    "        'Month':[month],\n",
    "        'Day':[day],\n",
    "        'Hour':[hour],\n",
    "        'Longitude':[longitude],\n",
    "        'Latitude':[latitude]}\n",
    "    \n",
    "    wind_df = {        \n",
    "        'Surface Air Temp (K)':[0],\n",
    "        'Humidity (g/kg)': [0],\n",
    "        'Year':[year],\n",
    "        'Month':[month],\n",
    "        'Day':[day],\n",
    "        'Hour':[hour],\n",
    "        'Longitude':[longitude],\n",
    "        'Latitude':[latitude]}\n",
    "   \n",
    "    temp_df = {\n",
    "        'Surface Wind Speed (m/s)':[0],\n",
    "        'Humidity (g/kg)': [0],\n",
    "        'Year':[year],\n",
    "        'Month':[month],\n",
    "        'Day':[day],\n",
    "        'Hour':[hour],\n",
    "        'Longitude':[longitude],\n",
    "        'Latitude':[latitude] }\n",
    "\n",
    "    rain_df1 = pd.DataFrame(rain_df)\n",
    "    wind_df = pd.DataFrame(wind_df)\n",
    "    temp_df = pd.DataFrame(temp_df)\n",
    "\n",
    "    rain = rain_model.predict(rain_df1)[0]\n",
    "    wind = wind_model.predict(wind_df)[0]\n",
    "    temp = temp_model.predict(temp_df)[0]\n",
    "\n",
    "    prediction = { 'Rain': rain, 'Wind':wind, 'Temp':temp}\n",
    "    print(prediction)\n",
    "\n",
    "    return jsonify(prediction)\n",
    "\n"
   ]
  },
  {
   "cell_type": "code",
   "execution_count": 17,
   "id": "7c942aa2",
   "metadata": {},
   "outputs": [
    {
     "name": "stdout",
     "output_type": "stream",
     "text": [
      " * Serving Flask app '__main__'\n",
      " * Debug mode: off\n"
     ]
    },
    {
     "name": "stderr",
     "output_type": "stream",
     "text": [
      "WARNING: This is a development server. Do not use it in a production deployment. Use a production WSGI server instead.\n",
      " * Running on http://127.0.0.1:5000\n",
      "Press CTRL+C to quit\n",
      "127.0.0.1 - - [05/Oct/2025 10:58:23] \"POST /request HTTP/1.1\" 200 -\n"
     ]
    },
    {
     "name": "stdout",
     "output_type": "stream",
     "text": [
      "[{'Date': Timestamp('2025-10-01 08:00:00'), 'Rain': 3.3509059887684364e-05, 'Wind': 102754.68824969916, 'Temp': 275.77054762668763}, {'Date': Timestamp('2025-10-02 08:00:00'), 'Rain': 3.3614009596614255e-05, 'Wind': 102754.06813841716, 'Temp': 275.76287720790276}, {'Date': Timestamp('2025-10-03 08:00:00'), 'Rain': 3.3718959305544145e-05, 'Wind': 102753.44802713516, 'Temp': 275.7552067891179}, {'Date': Timestamp('2025-10-04 08:00:00'), 'Rain': 3.3823909014474036e-05, 'Wind': 102752.82791585318, 'Temp': 275.747536370333}, {'Date': Timestamp('2025-10-05 08:00:00'), 'Rain': 3.3928858723403926e-05, 'Wind': 102752.20780457118, 'Temp': 275.73986595154815}, {'Date': Timestamp('2025-10-06 08:00:00'), 'Rain': 3.403380843233371e-05, 'Wind': 102751.58769328918, 'Temp': 275.7321955327633}]\n"
     ]
    }
   ],
   "source": [
    "if __name__ == \"__main__\":\n",
    "    app.run()"
   ]
  },
  {
   "cell_type": "code",
   "execution_count": null,
   "id": "2216f09e",
   "metadata": {},
   "outputs": [
    {
     "name": "stdout",
     "output_type": "stream",
     "text": [
      "[{'Date': Timestamp('2023-01-01 00:00:00'), 'Rain': 1.861835249021603e-05, 'Wind': 99796.17080719717, 'Temp': 263.85566124802926}, {'Date': Timestamp('2023-01-02 00:00:00'), 'Rain': 1.872330219914592e-05, 'Wind': 99795.55069591517, 'Temp': 263.8479908292444}, {'Date': Timestamp('2023-01-03 00:00:00'), 'Rain': 1.882825190807581e-05, 'Wind': 99794.93058463317, 'Temp': 263.8403204104596}]\n"
     ]
    }
   ],
   "source": [
    "# ## Example \n",
    "# date1 = '2023-01-01'\n",
    "# date2 = '2023-01-03'\n",
    "# date_list = split_dates(date1, date2)\n",
    "\n",
    "# pred_list = []\n",
    "# for each in date_list:\n",
    "#         prediction = get_prediction(each, 50, -80)\n",
    "#         pred_list.append(prediction)\n",
    "\n",
    "# print(pred_list)"
   ]
  },
  {
   "cell_type": "code",
   "execution_count": null,
   "id": "14117e08",
   "metadata": {},
   "outputs": [],
   "source": [
    "# ## Post will have \n",
    "# # Longitude/Latitude\n",
    "# # Hour/Day/Month/Year\n",
    "# @app.route(\"/request\", methods=[\"POST\"])\n",
    "# def predict1():\n",
    "\n",
    "#     data = request.get_json()\n",
    "\n",
    "#     latitude = data['Latitude']\n",
    "#     longitude = data['Longitude']\n",
    "    \n",
    "#     start_date = data['Start_Date']\n",
    "#     end_date = data['End_Date']\n",
    "#     date_list = split_dates(start_date, end_date)\n",
    "\n",
    "#     prediction_list = []\n",
    "#     #for each Date, create a dataframe, and predict the rain wind and temp\n",
    "#     for each in date_list:\n",
    "#         month = data['Month']\n",
    "#         day = data['Day']\n",
    "#         year = data['Year']\n",
    "#         hour = data['Hour']\n",
    "\n",
    "\n",
    "#         rain_df = {\n",
    "#         'Humidity':[humidity_avg[month -1]],\n",
    "#         'Pressure (Pa)': [air_pressure_avg[month -1]],\n",
    "#         'Year':[year],\n",
    "#         'Month':[month],\n",
    "#         'Day':[day],\n",
    "#         'Hour':[hour],\n",
    "#         'Longitude':[longitude],\n",
    "#         'Latitude':[latitude]}\n",
    "    \n",
    "#         wind_df = {        \n",
    "#         'Surface Air Temp (K)':[0],\n",
    "#         'Humidity (g/kg)': [0],\n",
    "#         'Year':[year],\n",
    "#         'Month':[month],\n",
    "#         'Day':[day],\n",
    "#         'Hour':[hour],\n",
    "#         'Longitude':[longitude],\n",
    "#         'Latitude':[latitude]}\n",
    "   \n",
    "#         temp_df = {\n",
    "#         'Surface Wind Speed (m/s)':[0],\n",
    "#         'Humidity (g/kg)': [0],\n",
    "#         'Year':[year],\n",
    "#         'Month':[month],\n",
    "#         'Day':[day],\n",
    "#         'Hour':[hour],\n",
    "#         'Longitude':[longitude],\n",
    "#         'Latitude':[latitude] }\n",
    "\n",
    "#         rain_df1 = pd.DataFrame(rain_df)\n",
    "#         wind_df = pd.DataFrame(wind_df)\n",
    "#         temp_df = pd.DataFrame(temp_df)\n",
    "\n",
    "#         rain = rain_model.predict(rain_df1)[0]\n",
    "#         wind = wind_model.predict(wind_df)[0]\n",
    "#         temp = temp_model.predict(temp_df)[0]\n",
    "\n",
    "#         prediction = {'Date': each, 'Rain': rain, 'Wind':wind, 'Temp':temp}\n",
    "#         prediction_list.append(prediction)\n",
    "#         #end loop\n",
    "\n",
    "#     return jsonify({ 'Predictions' : prediction_list})\n",
    "\n",
    "\n"
   ]
  },
  {
   "cell_type": "code",
   "execution_count": null,
   "id": "d30feede",
   "metadata": {},
   "outputs": [
    {
     "name": "stdout",
     "output_type": "stream",
     "text": [
      "DatetimeIndex(['2023-01-01 08:00:00', '2023-01-02 08:00:00'], dtype='datetime64[ns]', freq='D')\n"
     ]
    }
   ],
   "source": [
    "# date1 = '2023-01-01T08:00:00'\n",
    "# date2 = '2023-01-02T08:00:00'\n",
    "# dates = split_dates(date1, date2)\n",
    "# # print(dates)\n"
   ]
  },
  {
   "cell_type": "code",
   "execution_count": null,
   "id": "9d7688d5",
   "metadata": {},
   "outputs": [
    {
     "name": "stdout",
     "output_type": "stream",
     "text": [
      "[{'Date': Timestamp('2023-01-01 08:00:00'), 'Rain': 0.001246843873389896, 'Wind': 181143.9715257681, 'Temp': 492.55329476651434}, {'Date': Timestamp('2023-01-02 08:00:00'), 'Rain': 0.001246948823098826, 'Wind': 181143.3514144861, 'Temp': 492.5456243477295}]\n"
     ]
    }
   ],
   "source": [
    "# pred_list = []\n",
    "\n",
    "# for each in dates:\n",
    "#         month = each.month\n",
    "#         day = each.day\n",
    "#         year = each.year\n",
    "#         hour = each.hour\n",
    "\n",
    "\n",
    "#         rain_df = {\n",
    "#         'Humidity':[0],\n",
    "#         'Pressure (Pa)': [0],\n",
    "#         'Year':[year],\n",
    "#         'Month':[month],\n",
    "#         'Day':[day],\n",
    "#         'Hour':[hour],\n",
    "#         'Longitude':[50],\n",
    "#         'Latitude':[-80]}\n",
    "    \n",
    "#         wind_df = {        \n",
    "#         'Surface Air Temp (K)':[0],\n",
    "#         'Humidity (g/kg)': [0],\n",
    "#         'Year':[year],\n",
    "#         'Month':[month],\n",
    "#         'Day':[day],\n",
    "#         'Hour':[hour],\n",
    "#         'Longitude':[50],\n",
    "#         'Latitude':[-80]}\n",
    "   \n",
    "#         temp_df = {\n",
    "#         'Surface Wind Speed (m/s)':[0],\n",
    "#         'Humidity (g/kg)': [0],\n",
    "#         'Year':[year],\n",
    "#         'Month':[month],\n",
    "#         'Day':[day],\n",
    "#         'Hour':[hour],\n",
    "#         'Longitude':[50],\n",
    "#         'Latitude':[-80] }\n",
    "\n",
    "#         rain_df1 = pd.DataFrame(rain_df)\n",
    "#         wind_df = pd.DataFrame(wind_df)\n",
    "#         temp_df = pd.DataFrame(temp_df)\n",
    "\n",
    "#         # rain = rain_model.predict(rain_df1)[0]\n",
    "#         wind = wind_model.predict(wind_df)[0]\n",
    "#         temp = temp_model.predict(temp_df)[0]\n",
    "\n",
    "#         prediction = {'Date': each, 'Rain': rain, 'Wind':wind, 'Temp':temp}\n",
    "#         pred_list.append(prediction)\n",
    "    \n",
    "# print(pred_list)"
   ]
  },
  {
   "cell_type": "code",
   "execution_count": null,
   "id": "da465d45",
   "metadata": {},
   "outputs": [
    {
     "name": "stdout",
     "output_type": "stream",
     "text": [
      "1\n",
      "1\n",
      "2023\n",
      "0\n",
      "2\n",
      "1\n",
      "2023\n",
      "0\n",
      "3\n",
      "1\n",
      "2023\n",
      "0\n",
      "4\n",
      "1\n",
      "2023\n",
      "0\n",
      "5\n",
      "1\n",
      "2023\n",
      "0\n",
      "6\n",
      "1\n",
      "2023\n",
      "0\n",
      "7\n",
      "1\n",
      "2023\n",
      "0\n",
      "8\n",
      "1\n",
      "2023\n",
      "0\n",
      "9\n",
      "1\n",
      "2023\n",
      "0\n",
      "10\n",
      "1\n",
      "2023\n",
      "0\n"
     ]
    }
   ],
   "source": [
    "# for each in dates:\n",
    "#     print(each.day)\n",
    "#     print(each.month)\n",
    "#     # print(each.year)\n",
    "#     print(each.hour)"
   ]
  }
 ],
 "metadata": {
  "kernelspec": {
   "display_name": "base",
   "language": "python",
   "name": "python3"
  },
  "language_info": {
   "codemirror_mode": {
    "name": "ipython",
    "version": 3
   },
   "file_extension": ".py",
   "mimetype": "text/x-python",
   "name": "python",
   "nbconvert_exporter": "python",
   "pygments_lexer": "ipython3",
   "version": "3.12.7"
  }
 },
 "nbformat": 4,
 "nbformat_minor": 5
}
